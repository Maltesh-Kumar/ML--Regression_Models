{
 "cells": [
  {
   "cell_type": "markdown",
   "metadata": {},
   "source": [
    "## Importing Libraries"
   ]
  },
  {
   "cell_type": "code",
   "execution_count": 2,
   "metadata": {},
   "outputs": [],
   "source": [
    "import pandas as pd\n",
    "import matplotlib.pyplot as plt\n",
    "import numpy as np\n",
    "import seaborn as sns"
   ]
  },
  {
   "cell_type": "code",
   "execution_count": 3,
   "metadata": {},
   "outputs": [],
   "source": [
    "df1 = pd.read_excel('Book1.xlsx')\n",
    "df2 = pd.read_excel('Book2.xlsx')"
   ]
  },
  {
   "cell_type": "code",
   "execution_count": 4,
   "metadata": {},
   "outputs": [],
   "source": [
    "df1 = df1[['GRE','CGPA']]\n",
    "df2 = df2[['GRE','CGPA']]"
   ]
  },
  {
   "cell_type": "code",
   "execution_count": 6,
   "metadata": {},
   "outputs": [
    {
     "data": {
      "text/html": [
       "<div>\n",
       "<style scoped>\n",
       "    .dataframe tbody tr th:only-of-type {\n",
       "        vertical-align: middle;\n",
       "    }\n",
       "\n",
       "    .dataframe tbody tr th {\n",
       "        vertical-align: top;\n",
       "    }\n",
       "\n",
       "    .dataframe thead th {\n",
       "        text-align: right;\n",
       "    }\n",
       "</style>\n",
       "<table border=\"1\" class=\"dataframe\">\n",
       "  <thead>\n",
       "    <tr style=\"text-align: right;\">\n",
       "      <th></th>\n",
       "      <th>GRE</th>\n",
       "      <th>CGPA</th>\n",
       "    </tr>\n",
       "  </thead>\n",
       "  <tbody>\n",
       "    <tr>\n",
       "      <th>153</th>\n",
       "      <td>340</td>\n",
       "      <td>9.60</td>\n",
       "    </tr>\n",
       "    <tr>\n",
       "      <th>154</th>\n",
       "      <td>340</td>\n",
       "      <td>9.60</td>\n",
       "    </tr>\n",
       "    <tr>\n",
       "      <th>155</th>\n",
       "      <td>340</td>\n",
       "      <td>9.50</td>\n",
       "    </tr>\n",
       "    <tr>\n",
       "      <th>156</th>\n",
       "      <td>340</td>\n",
       "      <td>9.45</td>\n",
       "    </tr>\n",
       "    <tr>\n",
       "      <th>157</th>\n",
       "      <td>340</td>\n",
       "      <td>9.92</td>\n",
       "    </tr>\n",
       "  </tbody>\n",
       "</table>\n",
       "</div>"
      ],
      "text/plain": [
       "     GRE  CGPA\n",
       "153  340  9.60\n",
       "154  340  9.60\n",
       "155  340  9.50\n",
       "156  340  9.45\n",
       "157  340  9.92"
      ]
     },
     "execution_count": 6,
     "metadata": {},
     "output_type": "execute_result"
    }
   ],
   "source": [
    "df1.tail()"
   ]
  },
  {
   "cell_type": "code",
   "execution_count": 8,
   "metadata": {},
   "outputs": [
    {
     "name": "stdout",
     "output_type": "stream",
     "text": [
      "<class 'pandas.core.frame.DataFrame'>\n",
      "RangeIndex: 158 entries, 0 to 157\n",
      "Data columns (total 2 columns):\n",
      "GRE     158 non-null int64\n",
      "CGPA    158 non-null float64\n",
      "dtypes: float64(1), int64(1)\n",
      "memory usage: 2.5 KB\n"
     ]
    }
   ],
   "source": [
    "df1.info() "
   ]
  },
  {
   "cell_type": "code",
   "execution_count": 9,
   "metadata": {},
   "outputs": [
    {
     "data": {
      "text/html": [
       "<div>\n",
       "<style scoped>\n",
       "    .dataframe tbody tr th:only-of-type {\n",
       "        vertical-align: middle;\n",
       "    }\n",
       "\n",
       "    .dataframe tbody tr th {\n",
       "        vertical-align: top;\n",
       "    }\n",
       "\n",
       "    .dataframe thead th {\n",
       "        text-align: right;\n",
       "    }\n",
       "</style>\n",
       "<table border=\"1\" class=\"dataframe\">\n",
       "  <thead>\n",
       "    <tr style=\"text-align: right;\">\n",
       "      <th></th>\n",
       "      <th>GRE</th>\n",
       "      <th>CGPA</th>\n",
       "    </tr>\n",
       "  </thead>\n",
       "  <tbody>\n",
       "    <tr>\n",
       "      <th>count</th>\n",
       "      <td>158.000000</td>\n",
       "      <td>158.000000</td>\n",
       "    </tr>\n",
       "    <tr>\n",
       "      <th>mean</th>\n",
       "      <td>318.322785</td>\n",
       "      <td>8.629873</td>\n",
       "    </tr>\n",
       "    <tr>\n",
       "      <th>std</th>\n",
       "      <td>12.031947</td>\n",
       "      <td>0.651983</td>\n",
       "    </tr>\n",
       "    <tr>\n",
       "      <th>min</th>\n",
       "      <td>290.000000</td>\n",
       "      <td>6.800000</td>\n",
       "    </tr>\n",
       "    <tr>\n",
       "      <th>25%</th>\n",
       "      <td>310.000000</td>\n",
       "      <td>8.200000</td>\n",
       "    </tr>\n",
       "    <tr>\n",
       "      <th>50%</th>\n",
       "      <td>319.000000</td>\n",
       "      <td>8.640000</td>\n",
       "    </tr>\n",
       "    <tr>\n",
       "      <th>75%</th>\n",
       "      <td>327.000000</td>\n",
       "      <td>9.117500</td>\n",
       "    </tr>\n",
       "    <tr>\n",
       "      <th>max</th>\n",
       "      <td>340.000000</td>\n",
       "      <td>9.920000</td>\n",
       "    </tr>\n",
       "  </tbody>\n",
       "</table>\n",
       "</div>"
      ],
      "text/plain": [
       "              GRE        CGPA\n",
       "count  158.000000  158.000000\n",
       "mean   318.322785    8.629873\n",
       "std     12.031947    0.651983\n",
       "min    290.000000    6.800000\n",
       "25%    310.000000    8.200000\n",
       "50%    319.000000    8.640000\n",
       "75%    327.000000    9.117500\n",
       "max    340.000000    9.920000"
      ]
     },
     "execution_count": 9,
     "metadata": {},
     "output_type": "execute_result"
    }
   ],
   "source": [
    "df1.describe() "
   ]
  },
  {
   "cell_type": "code",
   "execution_count": 6,
   "metadata": {},
   "outputs": [],
   "source": [
    "x_train = df1['GRE'].values\n",
    "y_train = df1['CGPA'].values"
   ]
  },
  {
   "cell_type": "markdown",
   "metadata": {},
   "source": [
    "# To Calculate value of m and c <br/> y = mx + c  "
   ]
  },
  {
   "cell_type": "code",
   "execution_count": 7,
   "metadata": {},
   "outputs": [],
   "source": [
    "x_mean = np.mean(x_train)\n",
    "y_mean = np.mean(y_train)\n",
    "\n",
    "n = len(x_train) \n",
    "\n",
    "num = 0\n",
    "den = 0\n",
    "\n",
    "for i in range(n):\n",
    "    num += (x_train[i]-x_mean)*(y_train[i]-y_mean)\n",
    "    den += (x_train[i]-x_mean)**2\n",
    "\n",
    "b1 = num/den\n",
    "bo = y_mean - (b1*x_mean)"
   ]
  },
  {
   "cell_type": "code",
   "execution_count": 8,
   "metadata": {},
   "outputs": [
    {
     "name": "stdout",
     "output_type": "stream",
     "text": [
      "bo =  -5.256453686034028\n",
      "b1 =  0.04362341549643855\n"
     ]
    }
   ],
   "source": [
    "print('bo = ',bo)\n",
    "print('b1 = ',b1)"
   ]
  },
  {
   "cell_type": "code",
   "execution_count": 10,
   "metadata": {},
   "outputs": [],
   "source": [
    "x_test = df2['GRE'].values \n",
    "y_test = df2['CGPA'].values"
   ]
  },
  {
   "cell_type": "code",
   "execution_count": 15,
   "metadata": {},
   "outputs": [
    {
     "data": {
      "text/plain": [
       "array([306, 297, 315, 298, 318, 317, 329, 322, 302, 313, 293, 311, 312,\n",
       "       334, 322, 323, 321, 320, 329, 319, 309, 307, 300, 305, 299, 314,\n",
       "       316, 327, 317, 335, 331, 324, 324, 323, 322, 336, 316, 307, 306,\n",
       "       310, 311, 313, 317, 315, 340, 334, 298, 295, 315, 310, 305, 301,\n",
       "       325, 328, 338, 333, 331, 330, 322, 321, 324, 312, 313, 316, 324,\n",
       "       308, 305, 296, 306, 312, 318, 324, 313, 319, 312, 304, 330, 326,\n",
       "       325, 329, 310, 299, 296, 317, 324, 325, 314, 328, 316, 311, 324,\n",
       "       321, 320, 316, 318, 335, 321, 307, 309, 324, 326, 331, 327, 312,\n",
       "       308, 324, 325, 313, 312, 314, 327, 308, 306, 299, 294, 312, 315,\n",
       "       322, 329, 320, 308, 304, 311, 317, 312, 321, 340, 331, 336, 324,\n",
       "       314, 313, 307, 300, 302, 312, 316, 317, 310, 320], dtype=int64)"
      ]
     },
     "execution_count": 15,
     "metadata": {},
     "output_type": "execute_result"
    }
   ],
   "source": [
    "x_test"
   ]
  },
  {
   "cell_type": "markdown",
   "metadata": {},
   "source": [
    "# To Predict y value in y = mx + c"
   ]
  },
  {
   "cell_type": "code",
   "execution_count": 23,
   "metadata": {},
   "outputs": [],
   "source": [
    "y_pred = bo + b1*x_test"
   ]
  },
  {
   "cell_type": "code",
   "execution_count": 24,
   "metadata": {},
   "outputs": [
    {
     "data": {
      "text/plain": [
       "array([8.09231146, 7.69970072, 8.4849222 , 7.74332413, 8.61579244,\n",
       "       8.57216903, 9.09565001, 8.7902861 , 7.91781779, 8.39767536,\n",
       "       7.52520705, 8.31042853, 8.35405195, 9.31376709, 8.7902861 ,\n",
       "       8.83390952, 8.74666269, 8.70303927, 9.09565001, 8.65941586,\n",
       "       8.2231817 , 8.13593487, 7.83057096, 8.04868804, 7.78694755,\n",
       "       8.44129878, 8.52854561, 9.00840318, 8.57216903, 9.35739051,\n",
       "       9.18289684, 8.87753293, 8.87753293, 8.83390952, 8.7902861 ,\n",
       "       9.40101392, 8.52854561, 8.13593487, 8.09231146, 8.26680512,\n",
       "       8.31042853, 8.39767536, 8.57216903, 8.4849222 , 9.57550758,\n",
       "       9.31376709, 7.74332413, 7.61245389, 8.4849222 , 8.26680512,\n",
       "       8.04868804, 7.87419438, 8.92115635, 9.0520266 , 9.48826075,\n",
       "       9.27014367, 9.18289684, 9.13927343, 8.7902861 , 8.74666269,\n",
       "       8.87753293, 8.35405195, 8.39767536, 8.52854561, 8.87753293,\n",
       "       8.17955829, 8.04868804, 7.6560773 , 8.09231146, 8.35405195,\n",
       "       8.61579244, 8.87753293, 8.39767536, 8.65941586, 8.35405195,\n",
       "       8.00506462, 9.13927343, 8.96477977, 8.92115635, 9.09565001,\n",
       "       8.26680512, 7.78694755, 7.6560773 , 8.57216903, 8.87753293,\n",
       "       8.92115635, 8.44129878, 9.0520266 , 8.52854561, 8.31042853,\n",
       "       8.87753293, 8.74666269, 8.70303927, 8.52854561, 8.61579244,\n",
       "       9.35739051, 8.74666269, 8.13593487, 8.2231817 , 8.87753293,\n",
       "       8.96477977, 9.18289684, 9.00840318, 8.35405195, 8.17955829,\n",
       "       8.87753293, 8.92115635, 8.39767536, 8.35405195, 8.44129878,\n",
       "       9.00840318, 8.17955829, 8.09231146, 7.78694755, 7.56883047,\n",
       "       8.35405195, 8.4849222 , 8.7902861 , 9.09565001, 8.70303927,\n",
       "       8.17955829, 8.00506462, 8.31042853, 8.57216903, 8.35405195,\n",
       "       8.74666269, 9.57550758, 9.18289684, 9.40101392, 8.87753293,\n",
       "       8.44129878, 8.39767536, 8.13593487, 7.83057096, 7.91781779,\n",
       "       8.35405195, 8.52854561, 8.57216903, 8.26680512, 8.70303927])"
      ]
     },
     "execution_count": 24,
     "metadata": {},
     "output_type": "execute_result"
    }
   ],
   "source": [
    "y_pred"
   ]
  },
  {
   "cell_type": "code",
   "execution_count": 12,
   "metadata": {},
   "outputs": [
    {
     "data": {
      "text/plain": [
       "[<matplotlib.lines.Line2D at 0x22a414cdcf8>]"
      ]
     },
     "execution_count": 12,
     "metadata": {},
     "output_type": "execute_result"
    },
    {
     "data": {
      "image/png": "[encoded data removed]",
      "text/plain": [
       "<Figure size 432x288 with 1 Axes>"
      ]
     },
     "metadata": {
      "needs_background": "light"
     },
     "output_type": "display_data"
    }
   ],
   "source": [
    "plt.scatter(x_test,y_test)\n",
    "plt.plot(x_test, y_pred, color = 'orange')"
   ]
  },
  {
   "cell_type": "markdown",
   "metadata": {},
   "source": [
    "# Calculating R Squared Error"
   ]
  },
  {
   "cell_type": "code",
   "execution_count": 13,
   "metadata": {},
   "outputs": [],
   "source": [
    "ssr = 0\n",
    "sst = 0\n",
    "y_test_mean = np.mean(y_test)\n",
    "\n",
    "for i in range(len(x_test)):\n",
    "    ssr += (y_test[i]-y_pred[i]) ** 2\n",
    "    sst += (y_test[i]-y_test_mean) ** 2\n",
    "\n",
    "r2 = 1 - (ssr/sst)"
   ]
  },
  {
   "cell_type": "code",
   "execution_count": 14,
   "metadata": {},
   "outputs": [
    {
     "data": {
      "text/plain": [
       "0.7190249350286362"
      ]
     },
     "execution_count": 14,
     "metadata": {},
     "output_type": "execute_result"
    }
   ],
   "source": [
    "r2"
   ]
  },
  {
   "cell_type": "code",
   "execution_count": null,
   "metadata": {},
   "outputs": [],
   "source": []
  }
 ],
 "metadata": {
  "kernelspec": {
   "display_name": "Python 3",
   "language": "python",
   "name": "python3"
  },
  "language_info": {
   "codemirror_mode": {
    "name": "ipython",
    "version": 3
   },
   "file_extension": ".py",
   "mimetype": "text/x-python",
   "name": "python",
   "nbconvert_exporter": "python",
   "pygments_lexer": "ipython3",
   "version": "3.7.3"
  }
 },
 "nbformat": 4,
 "nbformat_minor": 2
}
